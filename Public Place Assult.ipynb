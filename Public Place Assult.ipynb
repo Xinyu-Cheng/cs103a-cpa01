{
 "cells": [
  {
   "cell_type": "markdown",
   "id": "491c268c",
   "metadata": {},
   "source": [
    "# Empolyment by Gender"
   ]
  },
  {
   "cell_type": "code",
   "execution_count": 1,
   "id": "9d57eecb",
   "metadata": {},
   "outputs": [],
   "source": [
    "import csv\n",
    "import matplotlib.pyplot as plt"
   ]
  },
  {
   "cell_type": "code",
   "execution_count": 10,
   "id": "4b9ef4c8",
   "metadata": {},
   "outputs": [
    {
     "name": "stdout",
     "output_type": "stream",
     "text": [
      "2088\n",
      "12\n",
      "{'\\ufeffyear': '2013', 'occupation': 'Chief executives', 'major_category': 'Management, Business, and Financial', 'minor_category': 'Management', 'total_workers': '1024259', 'workers_male': '782400', 'workers_female': '241859', 'percent_female': '23.6', 'total_earnings': '120254', 'total_earnings_male': '126142', 'total_earnings_female': '95921', 'wage_percent_of_male': '76.04207956'}\n",
      "{'\\ufeffyear': '2013', 'occupation': 'General and operations managers', 'major_category': 'Management, Business, and Financial', 'minor_category': 'Management', 'total_workers': '977284', 'workers_male': '681627', 'workers_female': '295657', 'percent_female': '30.3', 'total_earnings': '73557', 'total_earnings_male': '81041', 'total_earnings_female': '60759', 'wage_percent_of_male': '74.97316173'}\n"
     ]
    }
   ],
   "source": [
    "with open('data/jobsgender.csv','r',encoding='utf-8') as csvfile:\n",
    "    reader = csv.DictReader(csvfile)\n",
    "    data = [row for row in reader]\n",
    "    csvfile.close()\n",
    "print(len(data))\n",
    "# data = data[1:]\n",
    "print(len(data[1]))\n",
    "print(data[0])\n",
    "print(data[1])\n"
   ]
  },
  {
   "cell_type": "code",
   "execution_count": 24,
   "id": "4de668ca",
   "metadata": {},
   "outputs": [
    {
     "name": "stdout",
     "output_type": "stream",
     "text": [
      "[2016, 2013, 2014, 2015]\n",
      "[19.8, 19.2, 19.1, 18.29849172]\n"
     ]
    }
   ],
   "source": [
    "year = list({int(d['\\ufeffyear']) for d in data})\n",
    "percent_female = [toFloat(d['percent_female']) for d in data if d['occupation'] == 'Software developers, applications and systems software']\n",
    "wage_percent_of_male = [toFloat(d['wage_percent_of_male']) for d in data if d['occupation'] == 'Software developers, applications and systems software']\n",
    "print(year)\n",
    "print(percent_female)"
   ]
  },
  {
   "cell_type": "code",
   "execution_count": 22,
   "id": "bb88ebc9",
   "metadata": {},
   "outputs": [
    {
     "data": {
      "text/plain": [
       "<matplotlib.collections.PathCollection at 0x18d9a188160>"
      ]
     },
     "execution_count": 22,
     "metadata": {},
     "output_type": "execute_result"
    },
    {
     "data": {
      "image/png": "[encoded data removed]",
      "text/plain": [
       "<Figure size 432x288 with 1 Axes>"
      ]
     },
     "metadata": {
      "needs_background": "light"
     },
     "output_type": "display_data"
    }
   ],
   "source": [
    "plt.scatter(year,percent_female)"
   ]
  },
  {
   "cell_type": "code",
   "execution_count": 25,
   "id": "ce922936",
   "metadata": {},
   "outputs": [
    {
     "data": {
      "text/plain": [
       "<matplotlib.collections.PathCollection at 0x18d9a227df0>"
      ]
     },
     "execution_count": 25,
     "metadata": {},
     "output_type": "execute_result"
    },
    {
     "data": {
      "image/png": "[encoded data removed]",
      "text/plain": [
       "<Figure size 432x288 with 1 Axes>"
      ]
     },
     "metadata": {
      "needs_background": "light"
     },
     "output_type": "display_data"
    }
   ],
   "source": [
    "plt.scatter(year,wage_percent_of_male)"
   ]
  }
 ],
 "metadata": {
  "kernelspec": {
   "display_name": "Python 3 (ipykernel)",
   "language": "python",
   "name": "python3"
  },
  "language_info": {
   "codemirror_mode": {
    "name": "ipython",
    "version": 3
   },
   "file_extension": ".py",
   "mimetype": "text/x-python",
   "name": "python",
   "nbconvert_exporter": "python",
   "pygments_lexer": "ipython3",
   "version": "3.9.5"
  }
 },
 "nbformat": 4,
 "nbformat_minor": 5
}
